{
 "cells": [
  {
   "cell_type": "markdown",
   "id": "a5556c05",
   "metadata": {},
   "source": [
    "# Preprocessing"
   ]
  },
  {
   "cell_type": "markdown",
   "id": "52e4fdaf",
   "metadata": {},
   "source": [
    "### Imports"
   ]
  },
  {
   "cell_type": "code",
   "execution_count": 7,
   "id": "67f20549",
   "metadata": {},
   "outputs": [],
   "source": [
    "import sys\n",
    "import os\n",
    "import mne\n",
    "\n",
    "# Ensure project root is in sys.path\n",
    "sys.path.append(os.path.abspath(\"..\"))\n",
    "\n",
    "from src.patient import Patient, patient_from_filepath\n",
    "from src.recording import Recording\n",
    "from src.preprocessing import bandpass_filter, notch_filter\n",
    "from src.utils.plotting import plot_signals_mne"
   ]
  },
  {
   "cell_type": "markdown",
   "id": "1ce9702b",
   "metadata": {},
   "source": [
    "## Patient\n",
    "We can obtain patient information via a `file_path` to a recording"
   ]
  },
  {
   "cell_type": "code",
   "execution_count": null,
   "id": "650a6096",
   "metadata": {},
   "outputs": [
    {
     "name": "stdout",
     "output_type": "stream",
     "text": [
      "Extracting EDF parameters from /home/franko/Applied-Machine-Learning/Project/data/sleep-cassette/SC4102E0-PSG.edf...\n",
      "EDF file detected\n",
      "Setting channel info structure...\n",
      "Creating raw.info structure...\n",
      "Reading 0 ... 8573999  =      0.000 ... 85739.990 secs...\n"
     ]
    },
    {
     "name": "stderr",
     "output_type": "stream",
     "text": [
      "/home/franko/Applied-Machine-Learning/Project/src/patient.py:72: RuntimeWarning: Channels contain different highpass filters. Highest filter setting will be stored.\n",
      "  raw = mne.io.read_raw_edf(file_path, preload=True)\n",
      "/home/franko/Applied-Machine-Learning/Project/src/patient.py:72: RuntimeWarning: Channels contain different lowpass filters. Lowest filter setting will be stored.\n",
      "  raw = mne.io.read_raw_edf(file_path, preload=True)\n",
      "/home/franko/Applied-Machine-Learning/Project/src/patient.py:72: RuntimeWarning: Highpass cutoff frequency 16.0 is greater than lowpass cutoff frequency 0.7, setting values to 0 and Nyquist.\n",
      "  raw = mne.io.read_raw_edf(file_path, preload=True)\n"
     ]
    },
    {
     "name": "stdout",
     "output_type": "stream",
     "text": [
      "Patient #10: Age-26, Sex-Male\n"
     ]
    }
   ],
   "source": [
    "file_path = \"../data/sleep-telemetry/ST7101J0-PSG.edf\"\n",
    "patient: Patient = patient_from_filepath(file_path)\n",
    "print(patient)"
   ]
  },
  {
   "cell_type": "markdown",
   "id": "78dddf01",
   "metadata": {},
   "source": [
    "## Recording"
   ]
  },
  {
   "cell_type": "markdown",
   "id": "4c8b6c0e",
   "metadata": {
    "vscode": {
     "languageId": "plaintext"
    }
   },
   "source": [
    "From the filename we can obtain the patient number, type of study (cassette or telemetry) and the night (1 or 2)"
   ]
  },
  {
   "cell_type": "code",
   "execution_count": 9,
   "id": "3eb6072e",
   "metadata": {},
   "outputs": [
    {
     "name": "stdout",
     "output_type": "stream",
     "text": [
      "Recording: Cassette, Patient-10, Night-2\n"
     ]
    }
   ],
   "source": [
    "recording: Recording = Recording(file_path)\n",
    "print(recording)"
   ]
  },
  {
   "cell_type": "markdown",
   "id": "ac6906ac",
   "metadata": {},
   "source": [
    "## Plotting"
   ]
  },
  {
   "cell_type": "code",
   "execution_count": 10,
   "id": "d957c249",
   "metadata": {},
   "outputs": [
    {
     "name": "stdout",
     "output_type": "stream",
     "text": [
      "Extracting EDF parameters from /home/franko/Applied-Machine-Learning/Project/data/sleep-cassette/SC4102E0-PSG.edf...\n",
      "EDF file detected\n",
      "Setting channel info structure...\n",
      "Creating raw.info structure...\n",
      "Reading 0 ... 8573999  =      0.000 ... 85739.990 secs...\n"
     ]
    },
    {
     "name": "stderr",
     "output_type": "stream",
     "text": [
      "/tmp/ipykernel_1315548/2827028566.py:2: RuntimeWarning: Channels contain different highpass filters. Highest filter setting will be stored.\n",
      "  raw = mne.io.read_raw_edf(recording.file_path, preload=True)\n",
      "/tmp/ipykernel_1315548/2827028566.py:2: RuntimeWarning: Channels contain different lowpass filters. Lowest filter setting will be stored.\n",
      "  raw = mne.io.read_raw_edf(recording.file_path, preload=True)\n",
      "/tmp/ipykernel_1315548/2827028566.py:2: RuntimeWarning: Highpass cutoff frequency 16.0 is greater than lowpass cutoff frequency 0.7, setting values to 0 and Nyquist.\n",
      "  raw = mne.io.read_raw_edf(recording.file_path, preload=True)\n",
      "/home/franko/Applied-Machine-Learning/Project/src/utils/plotting.py:33: RuntimeWarning: Limited 1 annotation(s) that were expanding outside the data range.\n",
      "  raw.set_annotations(anno)\n"
     ]
    },
    {
     "name": "stdout",
     "output_type": "stream",
     "text": [
      "Channels marked as bad:\n",
      "none\n"
     ]
    }
   ],
   "source": [
    "# Load raw PSG data\n",
    "raw = mne.io.read_raw_edf(recording.file_path, preload=True)\n",
    "\n",
    "plot_signals_mne(recording=recording, raw=raw, annotations=True)"
   ]
  },
  {
   "cell_type": "code",
   "execution_count": 11,
   "id": "a25114cf",
   "metadata": {},
   "outputs": [
    {
     "name": "stdout",
     "output_type": "stream",
     "text": [
      "Channels:  ['EEG Fpz-Cz', 'EEG Pz-Oz']\n"
     ]
    },
    {
     "name": "stderr",
     "output_type": "stream",
     "text": [
      "/home/franko/Applied-Machine-Learning/Project/src/utils/plotting.py:33: RuntimeWarning: Limited 1 annotation(s) that were expanding outside the data range.\n",
      "  raw.set_annotations(anno)\n"
     ]
    },
    {
     "name": "stdout",
     "output_type": "stream",
     "text": [
      "Channels marked as bad:\n",
      "none\n"
     ]
    }
   ],
   "source": [
    "# Only give specific channels to plot_signals_mne\n",
    "channels = raw.info.ch_names[:2]\n",
    "print (\"Channels: \", channels)\n",
    "\n",
    "plot_signals_mne(recording=recording, raw=raw, annotations=True, channels=channels)\n"
   ]
  },
  {
   "cell_type": "markdown",
   "id": "33f09c34",
   "metadata": {},
   "source": [
    "## Filtering\n",
    "We can apply the bandpass and notch filters"
   ]
  },
  {
   "cell_type": "code",
   "execution_count": 14,
   "id": "2a0d5bae",
   "metadata": {},
   "outputs": [
    {
     "name": "stdout",
     "output_type": "stream",
     "text": [
      "Sampling frequency of the instance is already 200.0, returning unmodified.\n"
     ]
    },
    {
     "name": "stderr",
     "output_type": "stream",
     "text": [
      "2025-05-12 13:11:21,519 - INFO - preprocessing - Bandpass filter applied to EEG channels: 0.5-40 Hz\n",
      "2025-05-12 13:11:28,372 - INFO - preprocessing - Bandpass filter applied to EOG channels: 0.5-40 Hz\n",
      "2025-05-12 13:11:29,491 - INFO - preprocessing - Bandpass filter applied to EMG channels: 10-90 Hz\n",
      "2025-05-12 13:11:30,769 - INFO - preprocessing - Notch filter applied to EEG channels at: 50 Hz\n",
      "2025-05-12 13:11:36,914 - INFO - preprocessing - Notch filter applied to EOG channels at: 50 Hz\n",
      "2025-05-12 13:11:38,022 - INFO - preprocessing - Notch filter applied to EMG channels at: 50 Hz\n",
      "/home/franko/Applied-Machine-Learning/Project/src/utils/plotting.py:33: RuntimeWarning: Limited 1 annotation(s) that were expanding outside the data range.\n",
      "  raw.set_annotations(anno)\n"
     ]
    },
    {
     "name": "stdout",
     "output_type": "stream",
     "text": [
      "Channels marked as bad:\n",
      "none\n"
     ]
    }
   ],
   "source": [
    "# resample to 200Hz\n",
    "raw = raw.resample(sfreq=200, npad=\"auto\")\n",
    "\n",
    "raw = bandpass_filter(raw, 0.5, 40, \"EEG\")\n",
    "raw = bandpass_filter(raw, 0.5, 40, \"EOG\")\n",
    "raw = bandpass_filter(raw, 10, 90, \"EMG\")\n",
    "\n",
    "raw = notch_filter(raw, 50, \"EEG\")\n",
    "raw = notch_filter(raw, 50, \"EOG\")\n",
    "raw = notch_filter(raw, 50, \"EMG\")\n",
    "\n",
    "plot_signals_mne(recording=recording, raw=raw, annotations=True)"
   ]
  }
 ],
 "metadata": {
  "kernelspec": {
   "display_name": "AML",
   "language": "python",
   "name": "python3"
  },
  "language_info": {
   "codemirror_mode": {
    "name": "ipython",
    "version": 3
   },
   "file_extension": ".py",
   "mimetype": "text/x-python",
   "name": "python",
   "nbconvert_exporter": "python",
   "pygments_lexer": "ipython3",
   "version": "3.10.17"
  }
 },
 "nbformat": 4,
 "nbformat_minor": 5
}
